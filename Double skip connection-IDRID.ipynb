{
 "cells": [
  {
   "cell_type": "markdown",
   "id": "5226be7f",
   "metadata": {},
   "source": [
    "# Import lib\n"
   ]
  },
  {
   "cell_type": "code",
   "execution_count": 1,
   "id": "70d107f8",
   "metadata": {},
   "outputs": [],
   "source": [
    "import pandas as pd\n",
    "import numpy as np\n",
    "import cv2\n",
    "\n",
    "import tensorflow as tf\n",
    "from tensorflow import keras\n",
    "from tensorflow.keras import layers\n",
    "from tensorflow.keras.optimizers import Adam\n",
    "from tensorflow.keras.layers import Input,Dense,Flatten,Conv2D,BatchNormalization,MaxPooling2D,Dropout, Add\n",
    "from tensorflow.keras.models import Model\n",
    "\n",
    "# useful for getting number of output classes\n",
    "from glob import glob\n",
    "\n",
    "import matplotlib.pyplot as plt\n",
    "from matplotlib import image\n",
    "from PIL import Image"
   ]
  },
  {
   "cell_type": "markdown",
   "id": "726a784a",
   "metadata": {},
   "source": [
    "# Dataset"
   ]
  },
  {
   "cell_type": "code",
   "execution_count": 2,
   "id": "ab1cd68c",
   "metadata": {},
   "outputs": [],
   "source": [
    "def load_images(image_directory):\n",
    "    images = []\n",
    "    for filename in os.listdir(image_directory):\n",
    "        if filename.endswith(\".jpg\") or filename.endswith(\".jpeg\") or filename.endswith(\".png\"):\n",
    "            image_path = os.path.join(image_directory, filename)\n",
    "            image = cv2.imread(image_path)\n",
    "            image = cv2.cvtColor(image, cv2.COLOR_BGR2RGB)  # Convert BGR to RGB\n",
    "            image = cv2.resize(image, (224, 224))  # Resize the image to a desired size\n",
    "            images.append(image)\n",
    "    images = np.array(images)\n",
    "    return images\n",
    "\n",
    "# def load_images(image_directory):\n",
    "#     images = []\n",
    "#     for filename in os.listdir(image_directory):\n",
    "#         if filename.endswith(\".jpg\") or filename.endswith(\".jpeg\") or filename.endswith(\".png\"):\n",
    "#             image_path = os.path.join(image_directory, filename)\n",
    "#             image = cv2.imread(image_path)\n",
    "#             image = cv2.cvtColor(image, cv2.COLOR_BGR2RGB)  # Convert BGR to RGB\n",
    "#             image = cv2.resize(image, (224, 224))  # Resize the image to a desired size\n",
    "\n",
    "#             # Apply Frangi filter\n",
    "#             image = frangi(image)\n",
    "\n",
    "#             images.append(image)\n",
    "#     images = np.array(images)\n",
    "#     return images"
   ]
  },
  {
   "cell_type": "code",
   "execution_count": 3,
   "id": "4bfd69bf",
   "metadata": {},
   "outputs": [],
   "source": [
    "# Define the image and label directories\n",
    "train_image_directory = \"New/Disease_Grading/Training_Set\"\n",
    "test_image_directory = \"New/Disease_Grading/Testing_Set\"\n",
    "train_labels_csv_file = \"New/Disease_Grading/Training_Labels.csv\"\n",
    "test_labels_csv_file = \"New/Disease_Grading/Testing_Labels.csv\""
   ]
  },
  {
   "cell_type": "code",
   "execution_count": 4,
   "id": "64b1d903",
   "metadata": {},
   "outputs": [],
   "source": [
    "import os\n",
    "from skimage.filters import frangi\n",
    "\n",
    "train_images = load_images(train_image_directory)\n",
    "test_images = load_images(test_image_directory)"
   ]
  },
  {
   "cell_type": "code",
   "execution_count": 5,
   "id": "4e878838",
   "metadata": {},
   "outputs": [],
   "source": [
    "train_labels_df = pd.read_csv(train_labels_csv_file)\n",
    "train_labels = train_labels_df['label'].values\n",
    "\n",
    "test_labels_df = pd.read_csv(test_labels_csv_file)\n",
    "test_labels = test_labels_df['label'].values"
   ]
  },
  {
   "cell_type": "code",
   "execution_count": 6,
   "id": "7559f553",
   "metadata": {},
   "outputs": [],
   "source": [
    "# Apply data augmentation\n",
    "from tensorflow.keras.preprocessing.image import ImageDataGenerator\n",
    "\n",
    "datagen = ImageDataGenerator(\n",
    "    rotation_range=15,      # Rotate images randomly by up to 20 degrees\n",
    "    width_shift_range=0.1,  # Shift images horizontally by up to 10% of the image width\n",
    "    height_shift_range=0.1, # Shift images vertically by up to 10% of the image height\n",
    "    zoom_range=0.2,         # Zoom in or out on images by up to 20%\n",
    "    horizontal_flip=True,   # Flip images horizontally\n",
    "    vertical_flip=True     # Flip images vertically\n",
    ")\n",
    "\n",
    "datagen.fit(train_images)"
   ]
  },
  {
   "cell_type": "code",
   "execution_count": 7,
   "id": "f1fdeda4",
   "metadata": {},
   "outputs": [
    {
     "name": "stdout",
     "output_type": "stream",
     "text": [
      "Total images after data augmentation: 13040\n"
     ]
    }
   ],
   "source": [
    "num_samples = len(train_images)  # Replace 'train_images' with your actual training data\n",
    "num_augmentations = 1 + (15 * 2) + (0.1 * 2 + 1) * (0.1 * 2 + 1) * 0.2 * 2\n",
    "total_images = int(num_samples * num_augmentations)\n",
    "\n",
    "print(\"Total images after data augmentation:\", total_images)"
   ]
  },
  {
   "cell_type": "code",
   "execution_count": 8,
   "id": "3ac7ff49",
   "metadata": {},
   "outputs": [],
   "source": [
    "from sklearn.preprocessing import LabelEncoder\n",
    "from tensorflow.keras.utils import to_categorical\n",
    "\n",
    "label_encoder = LabelEncoder()\n",
    "encoded_labels = label_encoder.fit_transform(train_labels)\n",
    "num_classes = len(label_encoder.classes_)\n",
    "categorical_labels = to_categorical(encoded_labels, num_classes)"
   ]
  },
  {
   "cell_type": "markdown",
   "id": "5ccd6fc0",
   "metadata": {},
   "source": [
    "# Model "
   ]
  },
  {
   "cell_type": "code",
   "execution_count": 7,
   "id": "7706257c",
   "metadata": {},
   "outputs": [],
   "source": [
    "# # Define the model parameters using functional api\n",
    "# # original model\n",
    "\n",
    "# inputs = Input(shape=(224,224,3))\n",
    "# cnn1 = Conv2D(filters=128, kernel_size=(11,11), strides=(4,4), activation='relu')(inputs)\n",
    "# bnor1 = BatchNormalization()(cnn1)\n",
    "# max1 = MaxPooling2D(pool_size=(2,2))(bnor1)\n",
    "\n",
    "# cnn2 = Conv2D(filters=256, kernel_size=(5,5), strides=(1,1), activation='relu', padding=\"same\")(max1)\n",
    "# bnor2 = BatchNormalization()(cnn2)\n",
    "# max2 = MaxPooling2D(pool_size=(3,3))(bnor2)\n",
    "\n",
    "\n",
    "# cnn3 = Conv2D(filters=256, kernel_size=(3,3), strides=(1,1), activation='relu', padding=\"same\")(max2)\n",
    "# bnor3 = BatchNormalization()(cnn3)\n",
    "\n",
    "# cnn4 = Conv2D(filters=256, kernel_size=(1,1), strides=(1,1), activation='relu', padding=\"same\")(bnor3)\n",
    "# bnor4 = BatchNormalization()(cnn4)\n",
    "\n",
    "# cnn5 = Conv2D(filters=256, kernel_size=(1,1), strides=(1,1), activation='relu', padding=\"same\")(bnor4)\n",
    "# add = Add()([cnn5,cnn3])\n",
    "# bnor5 = BatchNormalization()(add)\n",
    "\n",
    "# cnn6 = Conv2D(filters=256, kernel_size=(1,1), strides=(1,1), activation='relu', padding=\"same\")(bnor5)\n",
    "# bnor6 = BatchNormalization()(cnn6)\n",
    "\n",
    "# cnn7 = Conv2D(filters=256, kernel_size=(1,1), strides=(1,1), activation='relu', padding=\"same\")(bnor6)\n",
    "# add1 = Add()([cnn7,bnor5,cnn3])\n",
    "# bnor7 = BatchNormalization()(add1)\n",
    "# max3 = MaxPooling2D(pool_size=(2,2))(bnor7)\n",
    "\n",
    "# flat = Flatten()(max3)\n",
    "# dense1  = Dense(1024, activation = 'relu')(flat)\n",
    "# drop1 = Dropout(0.5)(dense1)\n",
    "# dense2 = Dense(1024, activation = 'relu')(drop1)\n",
    "# add2 = Add()([dense2,dense1])\n",
    "# dense3 = Dense(1024, activation = 'relu')(add2)\n",
    "# add3 = Add()([dense3,dense1])\n",
    "# drop2 = Dropout(0.5)(add3)\n",
    "# outputs = Dense(5, activation = 'softmax')(drop2)\n",
    "\n",
    "# model = Model(inputs=inputs, outputs=outputs, name='UGP_model') # defining the model"
   ]
  },
  {
   "cell_type": "code",
   "execution_count": 8,
   "id": "5e95d46e",
   "metadata": {},
   "outputs": [],
   "source": [
    "# # resnet50\n",
    "# # create empty model\n",
    "# from tensorflow.keras.models import Sequential\n",
    "# model = Sequential()\n",
    "\n",
    "# # import resnet50\n",
    "# pretrained_model= tf.keras.applications.ResNet50(include_top=False,\n",
    "#                    input_shape=(224,224,3),\n",
    "#                    pooling='max',classes=5,\n",
    "#                    weights='imagenet')\n",
    "\n",
    "# for layer in pretrained_model.layers:\n",
    "#         layer.trainable=False\n",
    "\n",
    "# # add layers\n",
    "# model.add(pretrained_model)\n",
    "# model.add(Flatten())\n",
    "# model.add(Dense(521, activation='relu'))\n",
    "# model.add(Dense(5, activation='softmax'))"
   ]
  },
  {
   "cell_type": "code",
   "execution_count": 7,
   "id": "cb5fe0d0",
   "metadata": {},
   "outputs": [],
   "source": [
    "# # densenet50\n",
    "# from tensorflow.keras.models import Sequential\n",
    "\n",
    "# model = Sequential()\n",
    "\n",
    "# pretrained_model = tf.keras.applications.DenseNet121(\n",
    "#     include_top=False,\n",
    "#     weights=\"imagenet\",\n",
    "#     input_shape=(224,224,3),\n",
    "#     pooling=None\n",
    "# )\n",
    "\n",
    "# for layers in pretrained_model.layers:\n",
    "#     layers.trainable = False\n",
    "\n",
    "# model.add(pretrained_model)\n",
    "# model.add(Flatten())\n",
    "# model.add(Dense(256, activation='relu'))\n",
    "# model.add(Dense(5, activation='softmax'))"
   ]
  },
  {
   "cell_type": "code",
   "execution_count": 9,
   "id": "5805fdcb",
   "metadata": {},
   "outputs": [
    {
     "name": "stdout",
     "output_type": "stream",
     "text": [
      "Model: \"model\"\n",
      "_________________________________________________________________\n",
      "Layer (type)                 Output Shape              Param #   \n",
      "=================================================================\n",
      "input_1 (InputLayer)         [(None, 224, 224, 3)]     0         \n",
      "_________________________________________________________________\n",
      "block1_conv1 (Conv2D)        (None, 224, 224, 64)      1792      \n",
      "_________________________________________________________________\n",
      "block1_conv2 (Conv2D)        (None, 224, 224, 64)      36928     \n",
      "_________________________________________________________________\n",
      "block1_pool (MaxPooling2D)   (None, 112, 112, 64)      0         \n",
      "_________________________________________________________________\n",
      "block2_conv1 (Conv2D)        (None, 112, 112, 128)     73856     \n",
      "_________________________________________________________________\n",
      "block2_conv2 (Conv2D)        (None, 112, 112, 128)     147584    \n",
      "_________________________________________________________________\n",
      "block2_pool (MaxPooling2D)   (None, 56, 56, 128)       0         \n",
      "_________________________________________________________________\n",
      "block3_conv1 (Conv2D)        (None, 56, 56, 256)       295168    \n",
      "_________________________________________________________________\n",
      "block3_conv2 (Conv2D)        (None, 56, 56, 256)       590080    \n",
      "_________________________________________________________________\n",
      "block3_conv3 (Conv2D)        (None, 56, 56, 256)       590080    \n",
      "_________________________________________________________________\n",
      "block3_conv4 (Conv2D)        (None, 56, 56, 256)       590080    \n",
      "_________________________________________________________________\n",
      "block3_pool (MaxPooling2D)   (None, 28, 28, 256)       0         \n",
      "_________________________________________________________________\n",
      "block4_conv1 (Conv2D)        (None, 28, 28, 512)       1180160   \n",
      "_________________________________________________________________\n",
      "block4_conv2 (Conv2D)        (None, 28, 28, 512)       2359808   \n",
      "_________________________________________________________________\n",
      "block4_conv3 (Conv2D)        (None, 28, 28, 512)       2359808   \n",
      "_________________________________________________________________\n",
      "block4_conv4 (Conv2D)        (None, 28, 28, 512)       2359808   \n",
      "_________________________________________________________________\n",
      "block4_pool (MaxPooling2D)   (None, 14, 14, 512)       0         \n",
      "_________________________________________________________________\n",
      "block5_conv1 (Conv2D)        (None, 14, 14, 512)       2359808   \n",
      "_________________________________________________________________\n",
      "block5_conv2 (Conv2D)        (None, 14, 14, 512)       2359808   \n",
      "_________________________________________________________________\n",
      "block5_conv3 (Conv2D)        (None, 14, 14, 512)       2359808   \n",
      "_________________________________________________________________\n",
      "block5_conv4 (Conv2D)        (None, 14, 14, 512)       2359808   \n",
      "_________________________________________________________________\n",
      "block5_pool (MaxPooling2D)   (None, 7, 7, 512)         0         \n",
      "_________________________________________________________________\n",
      "flatten (Flatten)            (None, 25088)             0         \n",
      "_________________________________________________________________\n",
      "dense (Dense)                (None, 521)               13071369  \n",
      "_________________________________________________________________\n",
      "dropout (Dropout)            (None, 521)               0         \n",
      "_________________________________________________________________\n",
      "dense_1 (Dense)              (None, 5)                 2610      \n",
      "=================================================================\n",
      "Total params: 33,098,363\n",
      "Trainable params: 13,073,979\n",
      "Non-trainable params: 20,024,384\n",
      "_________________________________________________________________\n"
     ]
    }
   ],
   "source": [
    "# vgg19\n",
    "from tensorflow.keras.applications.vgg19 import VGG19\n",
    "\n",
    "IMAGE_SHAPE = [224,224]\n",
    "\n",
    "# we need to keep the weights same as the original model and just drop first and last layer\n",
    "# Here we will be using imagenet weights\n",
    "vgg = VGG19(input_shape=IMAGE_SHAPE + [3], weights='imagenet', include_top=False)\n",
    "\n",
    "for layer in vgg.layers:\n",
    "    layer.trainable = False\n",
    "\n",
    "# changing the last layers since we need 5 classes rather than 1000 which it already does\n",
    "x = Flatten()(vgg.output)\n",
    "x = Dense(521, activation='relu')(x)\n",
    "x = Dropout(0.5)(x)  # Add dropout with 50% rate\n",
    "prediction = Dense(num_classes, activation='softmax')(x)\n",
    "# create a model object\n",
    "model = Model(inputs=vgg.input, outputs=prediction)\n",
    "# view the structure of the model\n",
    "model.summary()"
   ]
  },
  {
   "cell_type": "code",
   "execution_count": 10,
   "id": "e7168817",
   "metadata": {},
   "outputs": [
    {
     "name": "stdout",
     "output_type": "stream",
     "text": [
      "Model: \"model\"\n",
      "_________________________________________________________________\n",
      "Layer (type)                 Output Shape              Param #   \n",
      "=================================================================\n",
      "input_1 (InputLayer)         [(None, 224, 224, 3)]     0         \n",
      "_________________________________________________________________\n",
      "block1_conv1 (Conv2D)        (None, 224, 224, 64)      1792      \n",
      "_________________________________________________________________\n",
      "block1_conv2 (Conv2D)        (None, 224, 224, 64)      36928     \n",
      "_________________________________________________________________\n",
      "block1_pool (MaxPooling2D)   (None, 112, 112, 64)      0         \n",
      "_________________________________________________________________\n",
      "block2_conv1 (Conv2D)        (None, 112, 112, 128)     73856     \n",
      "_________________________________________________________________\n",
      "block2_conv2 (Conv2D)        (None, 112, 112, 128)     147584    \n",
      "_________________________________________________________________\n",
      "block2_pool (MaxPooling2D)   (None, 56, 56, 128)       0         \n",
      "_________________________________________________________________\n",
      "block3_conv1 (Conv2D)        (None, 56, 56, 256)       295168    \n",
      "_________________________________________________________________\n",
      "block3_conv2 (Conv2D)        (None, 56, 56, 256)       590080    \n",
      "_________________________________________________________________\n",
      "block3_conv3 (Conv2D)        (None, 56, 56, 256)       590080    \n",
      "_________________________________________________________________\n",
      "block3_conv4 (Conv2D)        (None, 56, 56, 256)       590080    \n",
      "_________________________________________________________________\n",
      "block3_pool (MaxPooling2D)   (None, 28, 28, 256)       0         \n",
      "_________________________________________________________________\n",
      "block4_conv1 (Conv2D)        (None, 28, 28, 512)       1180160   \n",
      "_________________________________________________________________\n",
      "block4_conv2 (Conv2D)        (None, 28, 28, 512)       2359808   \n",
      "_________________________________________________________________\n",
      "block4_conv3 (Conv2D)        (None, 28, 28, 512)       2359808   \n",
      "_________________________________________________________________\n",
      "block4_conv4 (Conv2D)        (None, 28, 28, 512)       2359808   \n",
      "_________________________________________________________________\n",
      "block4_pool (MaxPooling2D)   (None, 14, 14, 512)       0         \n",
      "_________________________________________________________________\n",
      "block5_conv1 (Conv2D)        (None, 14, 14, 512)       2359808   \n",
      "_________________________________________________________________\n",
      "block5_conv2 (Conv2D)        (None, 14, 14, 512)       2359808   \n",
      "_________________________________________________________________\n",
      "block5_conv3 (Conv2D)        (None, 14, 14, 512)       2359808   \n",
      "_________________________________________________________________\n",
      "block5_conv4 (Conv2D)        (None, 14, 14, 512)       2359808   \n",
      "_________________________________________________________________\n",
      "block5_pool (MaxPooling2D)   (None, 7, 7, 512)         0         \n",
      "_________________________________________________________________\n",
      "flatten (Flatten)            (None, 25088)             0         \n",
      "_________________________________________________________________\n",
      "dense (Dense)                (None, 521)               13071369  \n",
      "_________________________________________________________________\n",
      "dropout (Dropout)            (None, 521)               0         \n",
      "_________________________________________________________________\n",
      "dense_1 (Dense)              (None, 5)                 2610      \n",
      "=================================================================\n",
      "Total params: 33,098,363\n",
      "Trainable params: 13,073,979\n",
      "Non-trainable params: 20,024,384\n",
      "_________________________________________________________________\n"
     ]
    }
   ],
   "source": [
    "model.compile(\n",
    "    loss = 'categorical_crossentropy',\n",
    "    optimizer = Adam(learning_rate=0.001),\n",
    "    metrics = ['accuracy']\n",
    ")\n",
    "\n",
    "model.summary()"
   ]
  },
  {
   "cell_type": "code",
   "execution_count": 11,
   "id": "279a2049",
   "metadata": {
    "scrolled": true
   },
   "outputs": [
    {
     "name": "stdout",
     "output_type": "stream",
     "text": [
      "Epoch 1/50\n",
      "7/7 [==============================] - 32s 2s/step - loss: 107.6376 - accuracy: 0.3002\n",
      "Epoch 2/50\n",
      "7/7 [==============================] - 4s 625ms/step - loss: 42.3157 - accuracy: 0.3487\n",
      "Epoch 3/50\n",
      "7/7 [==============================] - 4s 626ms/step - loss: 21.5368 - accuracy: 0.4528\n",
      "Epoch 4/50\n",
      "7/7 [==============================] - 4s 627ms/step - loss: 12.1450 - accuracy: 0.5521\n",
      "Epoch 5/50\n",
      "7/7 [==============================] - 4s 628ms/step - loss: 3.2680 - accuracy: 0.6707\n",
      "Epoch 6/50\n",
      "7/7 [==============================] - 4s 629ms/step - loss: 1.1498 - accuracy: 0.7119\n",
      "Epoch 7/50\n",
      "7/7 [==============================] - 4s 627ms/step - loss: 0.7802 - accuracy: 0.7240\n",
      "Epoch 8/50\n",
      "7/7 [==============================] - 4s 632ms/step - loss: 0.7046 - accuracy: 0.7337\n",
      "Epoch 9/50\n",
      "7/7 [==============================] - 4s 632ms/step - loss: 0.6512 - accuracy: 0.7797\n",
      "Epoch 10/50\n",
      "7/7 [==============================] - 4s 634ms/step - loss: 0.5633 - accuracy: 0.7554\n",
      "Epoch 11/50\n",
      "7/7 [==============================] - 4s 631ms/step - loss: 0.5058 - accuracy: 0.8063\n",
      "Epoch 12/50\n",
      "7/7 [==============================] - 4s 633ms/step - loss: 0.4567 - accuracy: 0.8184\n",
      "Epoch 13/50\n",
      "7/7 [==============================] - 4s 632ms/step - loss: 0.4128 - accuracy: 0.8378\n",
      "Epoch 14/50\n",
      "7/7 [==============================] - 4s 633ms/step - loss: 0.3667 - accuracy: 0.8305\n",
      "Epoch 15/50\n",
      "7/7 [==============================] - 4s 634ms/step - loss: 0.3312 - accuracy: 0.8450\n",
      "Epoch 16/50\n",
      "7/7 [==============================] - 5s 640ms/step - loss: 0.3187 - accuracy: 0.8935\n",
      "Epoch 17/50\n",
      "7/7 [==============================] - 5s 637ms/step - loss: 0.3416 - accuracy: 0.8692\n",
      "Epoch 18/50\n",
      "7/7 [==============================] - 5s 638ms/step - loss: 0.2942 - accuracy: 0.8789\n",
      "Epoch 19/50\n",
      "7/7 [==============================] - 5s 642ms/step - loss: 0.3377 - accuracy: 0.8668\n",
      "Epoch 20/50\n",
      "7/7 [==============================] - 5s 640ms/step - loss: 0.2936 - accuracy: 0.8620\n",
      "Epoch 21/50\n",
      "7/7 [==============================] - 5s 640ms/step - loss: 0.2647 - accuracy: 0.8789\n",
      "Epoch 22/50\n",
      "7/7 [==============================] - 5s 642ms/step - loss: 0.2503 - accuracy: 0.8886\n",
      "Epoch 23/50\n",
      "7/7 [==============================] - 5s 645ms/step - loss: 0.2287 - accuracy: 0.9080\n",
      "Epoch 24/50\n",
      "7/7 [==============================] - 5s 649ms/step - loss: 0.2040 - accuracy: 0.9274\n",
      "Epoch 25/50\n",
      "7/7 [==============================] - 5s 647ms/step - loss: 0.1748 - accuracy: 0.9225\n",
      "Epoch 26/50\n",
      "7/7 [==============================] - 5s 650ms/step - loss: 0.1518 - accuracy: 0.9492\n",
      "Epoch 27/50\n",
      "7/7 [==============================] - 5s 650ms/step - loss: 0.1270 - accuracy: 0.9419\n",
      "Epoch 28/50\n",
      "7/7 [==============================] - 5s 649ms/step - loss: 0.1710 - accuracy: 0.9153\n",
      "Epoch 29/50\n",
      "7/7 [==============================] - 5s 644ms/step - loss: 0.1482 - accuracy: 0.9467\n",
      "Epoch 30/50\n",
      "7/7 [==============================] - 5s 644ms/step - loss: 0.1353 - accuracy: 0.9467\n",
      "Epoch 31/50\n",
      "7/7 [==============================] - 5s 647ms/step - loss: 0.1730 - accuracy: 0.9322\n",
      "Epoch 32/50\n",
      "7/7 [==============================] - 5s 647ms/step - loss: 0.1763 - accuracy: 0.9249\n",
      "Epoch 33/50\n",
      "7/7 [==============================] - 5s 649ms/step - loss: 0.1490 - accuracy: 0.9492\n",
      "Epoch 34/50\n",
      "7/7 [==============================] - 5s 645ms/step - loss: 0.1324 - accuracy: 0.9346\n",
      "Epoch 35/50\n",
      "7/7 [==============================] - 5s 645ms/step - loss: 0.1186 - accuracy: 0.9516\n",
      "Epoch 36/50\n",
      "7/7 [==============================] - 5s 646ms/step - loss: 0.1572 - accuracy: 0.9370\n",
      "Epoch 37/50\n",
      "7/7 [==============================] - 5s 647ms/step - loss: 0.1325 - accuracy: 0.9516\n",
      "Epoch 38/50\n",
      "7/7 [==============================] - 5s 647ms/step - loss: 0.0953 - accuracy: 0.9564\n",
      "Epoch 39/50\n",
      "7/7 [==============================] - 5s 648ms/step - loss: 0.1010 - accuracy: 0.9467\n",
      "Epoch 40/50\n",
      "7/7 [==============================] - 5s 649ms/step - loss: 0.1428 - accuracy: 0.9322\n",
      "Epoch 41/50\n",
      "7/7 [==============================] - 5s 650ms/step - loss: 0.1031 - accuracy: 0.9613\n",
      "Epoch 42/50\n",
      "7/7 [==============================] - 5s 649ms/step - loss: 0.1019 - accuracy: 0.9516\n",
      "Epoch 43/50\n",
      "7/7 [==============================] - 5s 651ms/step - loss: 0.1344 - accuracy: 0.9540\n",
      "Epoch 44/50\n",
      "7/7 [==============================] - 5s 651ms/step - loss: 0.0933 - accuracy: 0.9685\n",
      "Epoch 45/50\n",
      "7/7 [==============================] - 5s 650ms/step - loss: 0.1029 - accuracy: 0.9516\n",
      "Epoch 46/50\n",
      "7/7 [==============================] - 5s 651ms/step - loss: 0.1021 - accuracy: 0.9564\n",
      "Epoch 47/50\n",
      "7/7 [==============================] - 5s 654ms/step - loss: 0.1008 - accuracy: 0.9588\n",
      "Epoch 48/50\n",
      "7/7 [==============================] - 5s 653ms/step - loss: 0.1062 - accuracy: 0.9467\n",
      "Epoch 49/50\n",
      "7/7 [==============================] - 5s 653ms/step - loss: 0.0939 - accuracy: 0.9564\n",
      "Epoch 50/50\n",
      "7/7 [==============================] - 5s 653ms/step - loss: 0.1129 - accuracy: 0.9516\n"
     ]
    },
    {
     "data": {
      "text/plain": [
       "<keras.callbacks.History at 0x1b5d9d3bc88>"
      ]
     },
     "execution_count": 11,
     "metadata": {},
     "output_type": "execute_result"
    }
   ],
   "source": [
    "batch_size = 64\n",
    "epochs = 50\n",
    "\n",
    "model.fit(train_images, categorical_labels, batch_size=batch_size, epochs=epochs)"
   ]
  },
  {
   "cell_type": "code",
   "execution_count": 12,
   "id": "25b51047",
   "metadata": {},
   "outputs": [],
   "source": [
    "from sklearn.preprocessing import LabelEncoder\n",
    "from tensorflow.keras.utils import to_categorical\n",
    "\n",
    "label_encoder = LabelEncoder()\n",
    "encoded_labels = label_encoder.fit_transform(test_labels)\n",
    "num_classes = len(label_encoder.classes_)\n",
    "test_categorical_labels = to_categorical(encoded_labels, num_classes)"
   ]
  },
  {
   "cell_type": "code",
   "execution_count": 13,
   "id": "78cfb19c",
   "metadata": {},
   "outputs": [
    {
     "name": "stdout",
     "output_type": "stream",
     "text": [
      "4/4 [==============================] - 14s 1s/step - loss: 2.9503 - accuracy: 0.4757\n",
      "Test Loss: 2.9503\n",
      "Test Accuracy: 0.4757\n"
     ]
    }
   ],
   "source": [
    "# Vgg19 augemented \n",
    "\n",
    "test_loss, test_accuracy = model.evaluate(test_images, test_categorical_labels)\n",
    "print(f\"Test Loss: {test_loss:.4f}\")\n",
    "print(f\"Test Accuracy: {test_accuracy:.4f}\")"
   ]
  },
  {
   "cell_type": "code",
   "execution_count": 13,
   "id": "cfcfa7c8",
   "metadata": {},
   "outputs": [
    {
     "name": "stdout",
     "output_type": "stream",
     "text": [
      "4/4 [==============================] - 1s 90ms/step - loss: 2.0589 - accuracy: 0.4854\n",
      "Test Loss: 2.0589\n",
      "Test Accuracy: 0.4854\n"
     ]
    }
   ],
   "source": [
    "#original\n",
    "\n",
    "test_loss, test_accuracy = model.evaluate(test_images, test_categorical_labels)\n",
    "print(f\"Test Loss: {test_loss:.4f}\")\n",
    "print(f\"Test Accuracy: {test_accuracy:.4f}\")"
   ]
  },
  {
   "cell_type": "code",
   "execution_count": 13,
   "id": "f782f33a",
   "metadata": {},
   "outputs": [
    {
     "name": "stdout",
     "output_type": "stream",
     "text": [
      "4/4 [==============================] - 3s 295ms/step - loss: 1.8863 - accuracy: 0.4951\n",
      "Test Loss: 1.8863\n",
      "Test Accuracy: 0.4951\n"
     ]
    }
   ],
   "source": [
    "#rsnet\n",
    "\n",
    "test_loss, test_accuracy = model.evaluate(test_images, test_categorical_labels)\n",
    "print(f\"Test Loss: {test_loss:.4f}\")\n",
    "print(f\"Test Accuracy: {test_accuracy:.4f}\")"
   ]
  },
  {
   "cell_type": "code",
   "execution_count": 11,
   "id": "1dd7f6f3",
   "metadata": {},
   "outputs": [
    {
     "name": "stdout",
     "output_type": "stream",
     "text": [
      "4/4 [==============================] - 6s 688ms/step - loss: 8.0364 - accuracy: 0.4272\n",
      "Test Loss: 8.0364\n",
      "Test Accuracy: 0.4272\n"
     ]
    }
   ],
   "source": [
    "#densenet\n",
    "\n",
    "test_loss, test_accuracy = model.evaluate(test_images, test_categorical_labels)\n",
    "print(f\"Test Loss: {test_loss:.4f}\")\n",
    "print(f\"Test Accuracy: {test_accuracy:.4f}\")"
   ]
  },
  {
   "cell_type": "code",
   "execution_count": 13,
   "id": "a1d28632",
   "metadata": {},
   "outputs": [
    {
     "name": "stdout",
     "output_type": "stream",
     "text": [
      "4/4 [==============================] - 11s 1s/step - loss: 5.1439 - accuracy: 0.4757\n",
      "Test Loss: 5.1439\n",
      "Test Accuracy: 0.4757\n"
     ]
    }
   ],
   "source": [
    "#vgg\n",
    "\n",
    "test_loss, test_accuracy = model.evaluate(test_images, test_categorical_labels)\n",
    "print(f\"Test Loss: {test_loss:.4f}\")\n",
    "print(f\"Test Accuracy: {test_accuracy:.4f}\")"
   ]
  },
  {
   "cell_type": "code",
   "execution_count": null,
   "id": "811533ee",
   "metadata": {},
   "outputs": [],
   "source": []
  }
 ],
 "metadata": {
  "kernelspec": {
   "display_name": "Python 3",
   "language": "python",
   "name": "python3"
  },
  "language_info": {
   "codemirror_mode": {
    "name": "ipython",
    "version": 3
   },
   "file_extension": ".py",
   "mimetype": "text/x-python",
   "name": "python",
   "nbconvert_exporter": "python",
   "pygments_lexer": "ipython3",
   "version": "3.6.13"
  }
 },
 "nbformat": 4,
 "nbformat_minor": 5
}
