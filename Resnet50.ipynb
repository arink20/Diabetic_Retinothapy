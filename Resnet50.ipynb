{
 "cells": [
  {
   "cell_type": "markdown",
   "id": "ce8b141c",
   "metadata": {},
   "source": [
    "# Import lib\n"
   ]
  },
  {
   "cell_type": "code",
   "execution_count": 13,
   "id": "d79e6120",
   "metadata": {},
   "outputs": [],
   "source": [
    "import pandas as pd\n",
    "import numpy as np\n",
    "import cv2\n",
    "\n",
    "import tensorflow as tf\n",
    "from tensorflow import keras\n",
    "from tensorflow.keras import layers\n",
    "from tensorflow.python.keras.layers import Dense, Flatten\n",
    "from tensorflow.keras.models import Sequential\n",
    "from tensorflow.keras.optimizers import Adam\n",
    "\n",
    "# useful for getting number of output classes\n",
    "from glob import glob\n",
    "\n",
    "import matplotlib.pyplot as plt\n",
    "from matplotlib import image\n",
    "from PIL import Image"
   ]
  },
  {
   "cell_type": "markdown",
   "id": "ebb73228",
   "metadata": {},
   "source": [
    "# Dataset"
   ]
  },
  {
   "cell_type": "code",
   "execution_count": 2,
   "id": "f7d636b2",
   "metadata": {},
   "outputs": [],
   "source": [
    "train_path = 'archive/colored_images_mod/train'\n",
    "test_path = 'archive/colored_images_mod/test'"
   ]
  },
  {
   "cell_type": "code",
   "execution_count": 3,
   "id": "95a1345d",
   "metadata": {},
   "outputs": [],
   "source": [
    "classes = glob('archive/colored_images_mod/train/*')"
   ]
  },
  {
   "cell_type": "code",
   "execution_count": 4,
   "id": "bb3fe176",
   "metadata": {},
   "outputs": [],
   "source": [
    "# Use the Image Data Generator to import the images from the dataset\n",
    "from tensorflow.keras.preprocessing.image import ImageDataGenerator\n",
    "\n",
    "train_datagen = ImageDataGenerator(rescale = 1./255,\n",
    "                                   rotation_range = 15,\n",
    "                                   shear_range = 0.2,\n",
    "                                   zoom_range = 0.2,\n",
    "                                   horizontal_flip = True,\n",
    "                                   vertical_flip=True)\n",
    "\n",
    "test_datagen = ImageDataGenerator(rescale = 1./255)"
   ]
  },
  {
   "cell_type": "code",
   "execution_count": 5,
   "id": "a8df38dd",
   "metadata": {},
   "outputs": [
    {
     "name": "stdout",
     "output_type": "stream",
     "text": [
      "Found 2929 images belonging to 5 classes.\n"
     ]
    }
   ],
   "source": [
    "# Make sure you provide the same target size as initialied for the image size\n",
    "training_set = train_datagen.flow_from_directory(train_path,\n",
    "                                                 target_size = (224, 224),\n",
    "                                                 batch_size = 64,\n",
    "                                                 class_mode = 'categorical')"
   ]
  },
  {
   "cell_type": "code",
   "execution_count": 6,
   "id": "3fb8eb0d",
   "metadata": {},
   "outputs": [
    {
     "name": "stdout",
     "output_type": "stream",
     "text": [
      "Found 733 images belonging to 5 classes.\n"
     ]
    }
   ],
   "source": [
    "test_set = test_datagen.flow_from_directory(test_path,\n",
    "                                           target_size = (224, 224),\n",
    "                                           batch_size = 64,\n",
    "                                           class_mode = 'categorical')"
   ]
  },
  {
   "cell_type": "markdown",
   "id": "223672fd",
   "metadata": {},
   "source": [
    "# Resnet50"
   ]
  },
  {
   "cell_type": "code",
   "execution_count": 18,
   "id": "03dbf923",
   "metadata": {},
   "outputs": [],
   "source": [
    "# create empty model\n",
    "resnet_model = Sequential()\n",
    "\n",
    "# import resnet50\n",
    "pretrained_model= tf.keras.applications.ResNet50(include_top=False,\n",
    "                   input_shape=(224,224,3),\n",
    "                   pooling='max',classes=5,\n",
    "                   weights='imagenet')\n",
    "\n",
    "for layer in pretrained_model.layers:\n",
    "        layer.trainable=False\n",
    "\n",
    "# add layers\n",
    "resnet_model.add(pretrained_model)\n",
    "resnet_model.add(Flatten())\n",
    "resnet_model.add(Dense(521, activation='relu'))\n",
    "resnet_model.add(Dense(5, activation='softmax'))"
   ]
  },
  {
   "cell_type": "code",
   "execution_count": 19,
   "id": "e5b28950",
   "metadata": {},
   "outputs": [
    {
     "name": "stdout",
     "output_type": "stream",
     "text": [
      "Model: \"sequential_5\"\n",
      "_________________________________________________________________\n",
      "Layer (type)                 Output Shape              Param #   \n",
      "=================================================================\n",
      "resnet50 (Functional)        (None, 2048)              23587712  \n",
      "_________________________________________________________________\n",
      "module_wrapper_15 (ModuleWra (None, 2048)              0         \n",
      "_________________________________________________________________\n",
      "module_wrapper_16 (ModuleWra (None, 521)               1067529   \n",
      "_________________________________________________________________\n",
      "module_wrapper_17 (ModuleWra (None, 5)                 2610      \n",
      "=================================================================\n",
      "Total params: 24,657,851\n",
      "Trainable params: 1,070,139\n",
      "Non-trainable params: 23,587,712\n",
      "_________________________________________________________________\n"
     ]
    }
   ],
   "source": [
    "resnet_model.summary()"
   ]
  },
  {
   "cell_type": "code",
   "execution_count": 19,
   "id": "43189870",
   "metadata": {},
   "outputs": [],
   "source": [
    "resnet_model.compile(optimizer=Adam(learning_rate=0.001),loss='categorical_crossentropy',metrics=['accuracy'])"
   ]
  },
  {
   "cell_type": "code",
   "execution_count": 20,
   "id": "e6e72204",
   "metadata": {},
   "outputs": [
    {
     "name": "stdout",
     "output_type": "stream",
     "text": [
      "Epoch 1/20\n",
      "46/46 [==============================] - 40s 804ms/step - loss: 2.2733 - accuracy: 0.4370 - val_loss: 1.2620 - val_accuracy: 0.4939\n",
      "Epoch 2/20\n",
      "46/46 [==============================] - 35s 755ms/step - loss: 1.2416 - accuracy: 0.5391 - val_loss: 1.1678 - val_accuracy: 0.6276\n",
      "Epoch 3/20\n",
      "46/46 [==============================] - 36s 772ms/step - loss: 1.1525 - accuracy: 0.5749 - val_loss: 1.0203 - val_accuracy: 0.6071\n",
      "Epoch 4/20\n",
      "46/46 [==============================] - 36s 788ms/step - loss: 1.1656 - accuracy: 0.5705 - val_loss: 1.0800 - val_accuracy: 0.5593\n",
      "Epoch 5/20\n",
      "46/46 [==============================] - 36s 772ms/step - loss: 1.1523 - accuracy: 0.5736 - val_loss: 1.1263 - val_accuracy: 0.6330\n",
      "Epoch 6/20\n",
      "46/46 [==============================] - 35s 746ms/step - loss: 1.1219 - accuracy: 0.5988 - val_loss: 1.0250 - val_accuracy: 0.6930\n",
      "Epoch 7/20\n",
      "46/46 [==============================] - 35s 768ms/step - loss: 1.1201 - accuracy: 0.6060 - val_loss: 0.9651 - val_accuracy: 0.6958\n",
      "Epoch 8/20\n",
      "46/46 [==============================] - 35s 763ms/step - loss: 1.0788 - accuracy: 0.6125 - val_loss: 0.9813 - val_accuracy: 0.6126\n",
      "Epoch 9/20\n",
      "46/46 [==============================] - 35s 753ms/step - loss: 1.1346 - accuracy: 0.5804 - val_loss: 0.8939 - val_accuracy: 0.6712\n",
      "Epoch 10/20\n",
      "46/46 [==============================] - 36s 788ms/step - loss: 1.0993 - accuracy: 0.6012 - val_loss: 1.3098 - val_accuracy: 0.5143\n",
      "Epoch 11/20\n",
      "46/46 [==============================] - 39s 839ms/step - loss: 1.0858 - accuracy: 0.5982 - val_loss: 0.9936 - val_accuracy: 0.5839\n",
      "Epoch 12/20\n",
      "46/46 [==============================] - 42s 914ms/step - loss: 1.1773 - accuracy: 0.5729 - val_loss: 1.1297 - val_accuracy: 0.5648\n",
      "Epoch 13/20\n",
      "46/46 [==============================] - 38s 829ms/step - loss: 1.1184 - accuracy: 0.5964 - val_loss: 0.9416 - val_accuracy: 0.6903\n",
      "Epoch 14/20\n",
      "46/46 [==============================] - 39s 839ms/step - loss: 1.0199 - accuracy: 0.6207 - val_loss: 0.9102 - val_accuracy: 0.7012\n",
      "Epoch 15/20\n",
      "46/46 [==============================] - 37s 801ms/step - loss: 1.0650 - accuracy: 0.6033 - val_loss: 0.9046 - val_accuracy: 0.6794\n",
      "Epoch 16/20\n",
      "46/46 [==============================] - 36s 769ms/step - loss: 1.0686 - accuracy: 0.6077 - val_loss: 0.9322 - val_accuracy: 0.6439\n",
      "Epoch 17/20\n",
      "46/46 [==============================] - 36s 781ms/step - loss: 1.0211 - accuracy: 0.6227 - val_loss: 0.9093 - val_accuracy: 0.6658\n",
      "Epoch 18/20\n",
      "46/46 [==============================] - 38s 820ms/step - loss: 1.0055 - accuracy: 0.6320 - val_loss: 0.9059 - val_accuracy: 0.6876\n",
      "Epoch 19/20\n",
      "46/46 [==============================] - 36s 783ms/step - loss: 1.0306 - accuracy: 0.6227 - val_loss: 0.8989 - val_accuracy: 0.6930\n",
      "Epoch 20/20\n",
      "46/46 [==============================] - 37s 800ms/step - loss: 1.0007 - accuracy: 0.6302 - val_loss: 0.8746 - val_accuracy: 0.6971\n"
     ]
    }
   ],
   "source": [
    "epochs=20\n",
    "history = resnet_model.fit(\n",
    "  training_set,\n",
    "  validation_data=test_set,\n",
    "  epochs=epochs\n",
    ")"
   ]
  },
  {
   "cell_type": "code",
   "execution_count": 21,
   "id": "607f9c27",
   "metadata": {},
   "outputs": [
    {
     "data": {
      "image/png": "[encoded data removed]",
      "text/plain": [
       "<Figure size 432x288 with 1 Axes>"
      ]
     },
     "metadata": {
      "needs_background": "light"
     },
     "output_type": "display_data"
    },
    {
     "data": {
      "image/png": "[encoded data removed]",
      "text/plain": [
       "<Figure size 432x288 with 1 Axes>"
      ]
     },
     "metadata": {
      "needs_background": "light"
     },
     "output_type": "display_data"
    }
   ],
   "source": [
    "# plot the loss\n",
    "plt.plot(history.history['loss'], label='train loss')\n",
    "plt.plot(history.history['val_loss'], label='test loss')\n",
    "plt.legend()\n",
    "plt.show()\n",
    "\n",
    "# plot the accuracy\n",
    "plt.plot(history.history['accuracy'], label='train acc')\n",
    "plt.plot(history.history['val_accuracy'], label='test acc')\n",
    "plt.legend()\n",
    "plt.show()"
   ]
  },
  {
   "cell_type": "code",
   "execution_count": null,
   "id": "5d138ce6",
   "metadata": {},
   "outputs": [],
   "source": []
  }
 ],
 "metadata": {
  "kernelspec": {
   "display_name": "Python 3",
   "language": "python",
   "name": "python3"
  },
  "language_info": {
   "codemirror_mode": {
    "name": "ipython",
    "version": 3
   },
   "file_extension": ".py",
   "mimetype": "text/x-python",
   "name": "python",
   "nbconvert_exporter": "python",
   "pygments_lexer": "ipython3",
   "version": "3.6.13"
  }
 },
 "nbformat": 4,
 "nbformat_minor": 5
}
